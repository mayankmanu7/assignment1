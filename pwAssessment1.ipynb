{
  "nbformat": 4,
  "nbformat_minor": 0,
  "metadata": {
    "colab": {
      "provenance": []
    },
    "kernelspec": {
      "name": "python3",
      "display_name": "Python 3"
    },
    "language_info": {
      "name": "python"
    }
  },
  "cells": [
    {
      "cell_type": "code",
      "execution_count": null,
      "metadata": {
        "id": "UvFKlJonmX4H"
      },
      "outputs": [],
      "source": []
    },
    {
      "cell_type": "markdown",
      "source": [
        "What is Python, and why is it popular?\n",
        "Python is a high-level, interpreted programming language known for its clean syntax and ease of learning. It's popular because of its versatility, vast libraries, community support, and use in fields like web development, data science, AI, and automation.\n",
        "\n",
        "2. What is an interpreter in Python?\n",
        "An interpreter in Python reads and executes the code line by line. It translates Python code into machine-readable instructions during runtime, making debugging easier.\n",
        "\n",
        "3. What are pre-defined keywords in Python?\n",
        "Pre-defined keywords are reserved words in Python that have specific meanings and uses, like if, else, for, while, def, and return. They are part of the Python syntax.\n",
        "\n",
        "4. Can keywords be used as variable names?\n",
        "No, keywords cannot be used as variable names in Python because they are reserved by the language for specific functions and commands.\n",
        "\n",
        "5. What is mutability in Python?\n",
        "Mutability refers to an object’s ability to change its content after it has been created. Mutable objects can be changed in place, while immutable objects cannot.\n",
        "\n",
        "6. Why are lists mutable, but tuples are immutable?\n",
        "Lists are mutable to allow dynamic changes like adding or removing items. Tuples are immutable to provide data safety, faster access, and use as keys in dictionaries.\n",
        "\n",
        "7. What is the difference between “==” and “is” operators in Python?\n",
        "== checks if two variables have the same value, while is checks if they refer to the same object in memory.\n",
        "\n",
        "8. What are logical operators in Python?\n",
        "Logical operators (and, or, not) are used to combine or reverse conditional statements. They help in decision-making based on multiple conditions.\n",
        "\n",
        "9. What is type casting in Python?\n",
        "Type casting is the process of converting a variable from one data type to another, such as converting a string to an integer using int(\"5\").\n",
        "\n",
        "10. What is the difference between implicit and explicit type casting?\n",
        "Implicit type casting is automatically done by Python (e.g., int to float). Explicit type casting is done manually using functions like int(), float(), or str().\n",
        "\n",
        "11. What is the purpose of conditional statements in Python?\n",
        "Conditional statements like if, elif, and else control the flow of a program by executing certain blocks of code only when specific conditions are met.\n",
        "\n",
        "12. How does the elif statement work?\n",
        "The elif (else if) statement checks another condition if the previous if condition is false. It allows multiple conditions to be evaluated in order.\n",
        "\n",
        "13. What is the difference between for and while loops?\n",
        "A for loop is used when the number of iterations is known (e.g., looping over a list). A while loop is used when looping should continue until a condition becomes false.\n",
        "\n",
        "14. Describe a scenario where a while loop is more suitable than a for loop.\n",
        "A while loop is better when waiting for user input to meet a condition, like asking for a valid password until the correct one is entered.\n",
        "\n"
      ],
      "metadata": {
        "id": "y4OQcpommznO"
      }
    },
    {
      "cell_type": "code",
      "source": [],
      "metadata": {
        "id": "JloQGJYenHXe"
      },
      "execution_count": null,
      "outputs": []
    },
    {
      "cell_type": "markdown",
      "source": [
        "Write a Python program to print \"Hello, World!y\n"
      ],
      "metadata": {
        "id": "AWNNzY3NnIiK"
      }
    },
    {
      "cell_type": "code",
      "source": [
        "print('hello world')"
      ],
      "metadata": {
        "colab": {
          "base_uri": "https://localhost:8080/"
        },
        "id": "I5nr1nF3nSNv",
        "outputId": "c24b7ca2-9b28-4c2c-c336-6ccc974d12c6"
      },
      "execution_count": null,
      "outputs": [
        {
          "output_type": "stream",
          "name": "stdout",
          "text": [
            "hello world\n"
          ]
        }
      ]
    },
    {
      "cell_type": "markdown",
      "source": [
        "Write a Python program that displays your name and age"
      ],
      "metadata": {
        "id": "8CM6XgdJnwRr"
      }
    },
    {
      "cell_type": "code",
      "source": [
        "name=input('enter your name')\n",
        "age=int(input('enter your age'))\n",
        "print(name,age)"
      ],
      "metadata": {
        "colab": {
          "base_uri": "https://localhost:8080/"
        },
        "id": "2JIIxNs7n2aJ",
        "outputId": "7dfe56c2-b8c4-4d9b-99a5-582aa599a7d3"
      },
      "execution_count": null,
      "outputs": [
        {
          "output_type": "stream",
          "name": "stdout",
          "text": [
            "enter your namemayank\n",
            "enter your age22\n",
            "mayank 22\n"
          ]
        }
      ]
    },
    {
      "cell_type": "markdown",
      "source": [
        "8 Write code to print all the pre-defined keywords in Python using the keyword library8"
      ],
      "metadata": {
        "id": "LNEEakhkoAIi"
      }
    },
    {
      "cell_type": "code",
      "source": [
        "import keyword\n",
        "print(keyword.kwlist)"
      ],
      "metadata": {
        "colab": {
          "base_uri": "https://localhost:8080/"
        },
        "id": "hjk0XO4DoWOT",
        "outputId": "9dbd38ef-5a04-4eb2-df53-d872ba1a3192"
      },
      "execution_count": null,
      "outputs": [
        {
          "output_type": "stream",
          "name": "stdout",
          "text": [
            "['False', 'None', 'True', 'and', 'as', 'assert', 'async', 'await', 'break', 'class', 'continue', 'def', 'del', 'elif', 'else', 'except', 'finally', 'for', 'from', 'global', 'if', 'import', 'in', 'is', 'lambda', 'nonlocal', 'not', 'or', 'pass', 'raise', 'return', 'try', 'while', 'with', 'yield']\n"
          ]
        }
      ]
    },
    {
      "cell_type": "markdown",
      "source": [
        "Write a program that checks if a given word is a Python keyword.\n"
      ],
      "metadata": {
        "id": "glQdhAD7oh3w"
      }
    },
    {
      "cell_type": "code",
      "source": [
        "a=input('enter a word')\n",
        "if a in keyword.kwlist:\n",
        "  print(a,'is a keyword')\n",
        "else:\n",
        "  print(a,'is not a keyword')"
      ],
      "metadata": {
        "colab": {
          "base_uri": "https://localhost:8080/"
        },
        "id": "bAwGVn0zouev",
        "outputId": "4ac0acbb-91e9-4d4d-9ee0-4ea84a5ac1ad"
      },
      "execution_count": null,
      "outputs": [
        {
          "output_type": "stream",
          "name": "stdout",
          "text": [
            "enter a wordand\n",
            "and is a keyword\n"
          ]
        }
      ]
    },
    {
      "cell_type": "markdown",
      "source": [
        ". Create a list and tuple in Python, and demonstrate how attempting to change an element works differently\n",
        "for each"
      ],
      "metadata": {
        "id": "l3f7pX1WpAMd"
      }
    },
    {
      "cell_type": "code",
      "source": [
        "list=[1,2,3]\n",
        "tuple=(1,2,3)\n",
        "list[0]=4\n",
        "tuple[0]=4"
      ],
      "metadata": {
        "colab": {
          "base_uri": "https://localhost:8080/",
          "height": 176
        },
        "id": "uN6FRI1YpF61",
        "outputId": "f0fcfa5c-fe0c-4d1c-dd24-7db0d14bb2fa"
      },
      "execution_count": null,
      "outputs": [
        {
          "output_type": "error",
          "ename": "TypeError",
          "evalue": "'tuple' object does not support item assignment",
          "traceback": [
            "\u001b[0;31m---------------------------------------------------------------------------\u001b[0m",
            "\u001b[0;31mTypeError\u001b[0m                                 Traceback (most recent call last)",
            "\u001b[0;32m/tmp/ipython-input-1436199676.py\u001b[0m in \u001b[0;36m<cell line: 0>\u001b[0;34m()\u001b[0m\n\u001b[1;32m      2\u001b[0m \u001b[0mtuple\u001b[0m\u001b[0;34m=\u001b[0m\u001b[0;34m(\u001b[0m\u001b[0;36m1\u001b[0m\u001b[0;34m,\u001b[0m\u001b[0;36m2\u001b[0m\u001b[0;34m,\u001b[0m\u001b[0;36m3\u001b[0m\u001b[0;34m)\u001b[0m\u001b[0;34m\u001b[0m\u001b[0;34m\u001b[0m\u001b[0m\n\u001b[1;32m      3\u001b[0m \u001b[0mlist\u001b[0m\u001b[0;34m[\u001b[0m\u001b[0;36m0\u001b[0m\u001b[0;34m]\u001b[0m\u001b[0;34m=\u001b[0m\u001b[0;36m4\u001b[0m\u001b[0;34m\u001b[0m\u001b[0;34m\u001b[0m\u001b[0m\n\u001b[0;32m----> 4\u001b[0;31m \u001b[0mtuple\u001b[0m\u001b[0;34m[\u001b[0m\u001b[0;36m0\u001b[0m\u001b[0;34m]\u001b[0m\u001b[0;34m=\u001b[0m\u001b[0;36m4\u001b[0m\u001b[0;34m\u001b[0m\u001b[0;34m\u001b[0m\u001b[0m\n\u001b[0m",
            "\u001b[0;31mTypeError\u001b[0m: 'tuple' object does not support item assignment"
          ]
        }
      ]
    },
    {
      "cell_type": "markdown",
      "source": [
        " Write a function to demonstrate the behavior of mutable and immutable arguments."
      ],
      "metadata": {
        "id": "vie-AG2Dpp6f"
      }
    },
    {
      "cell_type": "markdown",
      "source": [
        " Write a function to demonstrate the behavior of mutable and immutable arguments."
      ],
      "metadata": {
        "id": "Ah2RSIttryLi"
      }
    },
    {
      "cell_type": "markdown",
      "source": [
        " Write a function to demonstrate the behavior of mutable and immutable arguments."
      ],
      "metadata": {
        "id": "bU5nwV_Kry8g"
      }
    },
    {
      "cell_type": "markdown",
      "source": [
        " Write a function to demonstrate the behavior of mutable and immutable arguments."
      ],
      "metadata": {
        "id": "oLln8Y8fr0QZ"
      }
    },
    {
      "cell_type": "code",
      "source": [],
      "metadata": {
        "id": "QYCMQ8F7pyr2"
      },
      "execution_count": null,
      "outputs": []
    },
    {
      "cell_type": "code",
      "metadata": {
        "colab": {
          "base_uri": "https://localhost:8080/"
        },
        "id": "558d646d",
        "outputId": "db77e6a4-6ef8-488e-b58d-aabba389bb0c"
      },
      "source": [
        "def demonstrate_mutability(mutable_list, immutable_int):\n",
        "  print(\"Inside the function:\")\n",
        "  print(\"Original mutable_list:\", mutable_list)\n",
        "  print(\"Original immutable_int:\", immutable_int)\n",
        "\n",
        "  # Modify the mutable argument\n",
        "  mutable_list.append(4)\n",
        "  print(\"Modified mutable_list:\", mutable_list)\n",
        "\n",
        "  # Attempt to modify the immutable argument (creates a new object)\n",
        "  immutable_int += 1\n",
        "  print(\"Modified immutable_int:\", immutable_int)\n",
        "\n",
        "# Demonstrate with a mutable list and an immutable integer\n",
        "my_list = [1, 2, 3]\n",
        "my_int = 10\n",
        "\n",
        "print(\"Before calling the function:\")\n",
        "print(\"my_list:\", my_list)\n",
        "print(\"my_int:\", my_int)\n",
        "\n",
        "demonstrate_mutability(my_list, my_int)\n",
        "\n",
        "print(\"After calling the function:\")\n",
        "print(\"my_list:\", my_list) # The list is changed\n",
        "print(\"my_int:\", my_int)   # The integer is unchanged"
      ],
      "execution_count": null,
      "outputs": [
        {
          "output_type": "stream",
          "name": "stdout",
          "text": [
            "Before calling the function:\n",
            "my_list: [1, 2, 3]\n",
            "my_int: 10\n",
            "Inside the function:\n",
            "Original mutable_list: [1, 2, 3]\n",
            "Original immutable_int: 10\n",
            "Modified mutable_list: [1, 2, 3, 4]\n",
            "Modified immutable_int: 11\n",
            "After calling the function:\n",
            "my_list: [1, 2, 3, 4]\n",
            "my_int: 10\n"
          ]
        }
      ]
    },
    {
      "cell_type": "markdown",
      "source": [
        "Write a program that performs basic arithmetic operations on two user-input numbers"
      ],
      "metadata": {
        "id": "9j9OwmfysXvu"
      }
    },
    {
      "cell_type": "code",
      "source": [
        "a=int(input('enter a number'))\n",
        "b=int(input('enter a number'))\n",
        "print(a+b)\n",
        "print(a-b)\n",
        "print(a*b)\n",
        "print(a/b)"
      ],
      "metadata": {
        "colab": {
          "base_uri": "https://localhost:8080/"
        },
        "id": "LH1K1aVOsfJ_",
        "outputId": "fbf4adbb-815a-4b65-ef42-93e0306cd8f0"
      },
      "execution_count": null,
      "outputs": [
        {
          "output_type": "stream",
          "name": "stdout",
          "text": [
            "enter a number2\n",
            "enter a number4\n",
            "6\n",
            "-2\n",
            "8\n",
            "0.5\n"
          ]
        }
      ]
    },
    {
      "cell_type": "markdown",
      "source": [
        " Write a program to demonstrate the use of logical operators"
      ],
      "metadata": {
        "id": "Ow3CQ9_8sntO"
      }
    },
    {
      "cell_type": "code",
      "source": [
        "a=10\n",
        "b=20\n",
        "print(a&b)\n",
        "print(a|b)\n",
        "print(a^b)\n",
        "print(~a)"
      ],
      "metadata": {
        "colab": {
          "base_uri": "https://localhost:8080/"
        },
        "id": "pK5weSVEslRf",
        "outputId": "dec4417f-ae49-46b1-9cac-d67706787cb9"
      },
      "execution_count": null,
      "outputs": [
        {
          "output_type": "stream",
          "name": "stdout",
          "text": [
            "0\n",
            "30\n",
            "30\n",
            "-11\n"
          ]
        }
      ]
    },
    {
      "cell_type": "code",
      "source": [],
      "metadata": {
        "id": "Q-M1BaEzx7t8"
      },
      "execution_count": null,
      "outputs": []
    },
    {
      "cell_type": "markdown",
      "source": [
        " Write a Python program to convert user input from string to integer, float, and boolean types."
      ],
      "metadata": {
        "id": "qF4ebmXItqAK"
      }
    },
    {
      "cell_type": "code",
      "source": [
        "str=input('enter a string')\n",
        "print(type(str))\n",
        "print(int(str))\n",
        "print(float(str))\n",
        "print(bool(str))"
      ],
      "metadata": {
        "colab": {
          "base_uri": "https://localhost:8080/"
        },
        "id": "WcK_h73mtuMw",
        "outputId": "847f3140-c38a-4aab-838d-aa5401933210"
      },
      "execution_count": null,
      "outputs": [
        {
          "output_type": "stream",
          "name": "stdout",
          "text": [
            "enter a string24\n",
            "<class 'str'>\n",
            "24\n",
            "24.0\n",
            "True\n"
          ]
        }
      ]
    },
    {
      "cell_type": "markdown",
      "source": [
        " Write code to demonstrate type casting with list elements"
      ],
      "metadata": {
        "id": "VLy1PfoGt-FQ"
      }
    },
    {
      "cell_type": "code",
      "source": [
        "str_list = [\"1\", \"2\", \"3\", \"4\"]\n",
        "int_list = [int(element) for element in str_list]\n",
        "print(int_list)\n"
      ],
      "metadata": {
        "colab": {
          "base_uri": "https://localhost:8080/"
        },
        "id": "pgIJg_8vuHa7",
        "outputId": "6afae7ca-30ac-4521-953d-0561d98d00cb"
      },
      "execution_count": null,
      "outputs": [
        {
          "output_type": "stream",
          "name": "stdout",
          "text": [
            "[1, 2, 3, 4]\n"
          ]
        }
      ]
    },
    {
      "cell_type": "markdown",
      "source": [
        " Write a program that checks if a number is positive, negative, or zero."
      ],
      "metadata": {
        "id": "ZjCwx6BbyNLQ"
      }
    },
    {
      "cell_type": "code",
      "source": [
        "a=int(input('enter a number'))\n",
        "if a>0:\n",
        "  print('positive')\n",
        "elif a<0:\n",
        "  print('negative')\n",
        "else:\n",
        "  print('zero')"
      ],
      "metadata": {
        "id": "wKPQx8oCyeEV"
      },
      "execution_count": null,
      "outputs": []
    },
    {
      "cell_type": "markdown",
      "source": [
        " Write a for loop to print numbers from 1 to 10."
      ],
      "metadata": {
        "id": "48384a3bykXK"
      }
    },
    {
      "cell_type": "code",
      "source": [
        "for i in range(0,11):\n",
        "  print(i)"
      ],
      "metadata": {
        "colab": {
          "base_uri": "https://localhost:8080/"
        },
        "id": "vFVmPSTnyo2l",
        "outputId": "4e1c85fe-1bec-49f2-c760-4611ce6db879"
      },
      "execution_count": null,
      "outputs": [
        {
          "output_type": "stream",
          "name": "stdout",
          "text": [
            "0\n",
            "1\n",
            "2\n",
            "3\n",
            "4\n",
            "5\n",
            "6\n",
            "7\n",
            "8\n",
            "9\n",
            "10\n"
          ]
        }
      ]
    },
    {
      "cell_type": "markdown",
      "source": [
        " Write a Python program to find the sum of all even numbers between 1 and 50."
      ],
      "metadata": {
        "id": "onyErRsWy8zP"
      }
    },
    {
      "cell_type": "code",
      "source": [
        "even_sum = 0\n",
        "for num in range(1, 51):\n",
        "    if num % 2 == 0:\n",
        "        even_sum += num\n",
        "\n",
        "\n",
        "print(\"Sum of even numbers from 1 to 50 is:\", even_sum)\n"
      ],
      "metadata": {
        "colab": {
          "base_uri": "https://localhost:8080/"
        },
        "id": "KpqjU69BzAbG",
        "outputId": "edcdb1c8-f432-4e5c-baad-387912bdb9f2"
      },
      "execution_count": null,
      "outputs": [
        {
          "output_type": "stream",
          "name": "stdout",
          "text": [
            "Sum of even numbers from 1 to 50 is: 650\n"
          ]
        }
      ]
    },
    {
      "cell_type": "markdown",
      "source": [
        "4. Write a program to reverse a string using a while loop"
      ],
      "metadata": {
        "id": "C-BiVY_K0w8h"
      }
    },
    {
      "cell_type": "code",
      "source": [
        "text = input(\"Enter a string: \")\n",
        "reversed_text = \"\"\n",
        "index = len(text) - 1\n",
        "while index >= 0:\n",
        "    reversed_text += text[index]\n",
        "    index -= 1\n",
        "\n",
        "print(\"Reversed string:\", reversed_text)\n",
        "\n",
        "\n",
        "\n"
      ],
      "metadata": {
        "colab": {
          "base_uri": "https://localhost:8080/"
        },
        "id": "sMM_CJu903ay",
        "outputId": "2b95eef9-8130-4722-90b8-3b069a1df3c4"
      },
      "execution_count": null,
      "outputs": [
        {
          "output_type": "stream",
          "name": "stdout",
          "text": [
            "Enter a string: hello\n",
            "Reversed string: olleh\n"
          ]
        }
      ]
    },
    {
      "cell_type": "markdown",
      "source": [],
      "metadata": {
        "id": "ZCcX-JvX3r9K"
      }
    },
    {
      "cell_type": "markdown",
      "source": [
        "Write a Python program to calculate the factorial of a number provided by the user using a while loop"
      ],
      "metadata": {
        "id": "xM_Zfswt38XF"
      }
    },
    {
      "cell_type": "code",
      "source": [
        "num = int(input(\"Enter a number: \"))\n",
        "factorial = 1\n",
        "i = 1\n",
        "while i <= num:\n",
        "    factorial *= i\n",
        "    i += 1\n",
        "\n",
        "print(f\"The factorial of {num} is {factorial}\")"
      ],
      "metadata": {
        "colab": {
          "base_uri": "https://localhost:8080/"
        },
        "id": "IjNpj67P3ttm",
        "outputId": "9ec587b9-bc37-4a85-867b-40c6bd85ea1f"
      },
      "execution_count": null,
      "outputs": [
        {
          "output_type": "stream",
          "name": "stdout",
          "text": [
            "Enter a number: 3\n",
            "The factorial of 3 is 6\n"
          ]
        }
      ]
    }
  ]
}